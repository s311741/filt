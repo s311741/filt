{
 "cells": [
  {
   "cell_type": "code",
   "execution_count": null,
   "id": "a59bdce0",
   "metadata": {},
   "outputs": [],
   "source": [
    "import numpy as np\n",
    "import matplotlib.pyplot as plt\n",
    "import matplotlib\n",
    "from math import *\n",
    "from tqdm.auto import tqdm\n",
    "from tqdm.auto import trange\n",
    "from tqdm.contrib import itertools as ti\n",
    "\n",
    "matplotlib.rcParams['figure.figsize'] = (20, 10)\n",
    "matplotlib.rcParams['xtick.top'] = False\n",
    "matplotlib.rcParams['ytick.right'] = False\n",
    "np.set_printoptions(threshold=30000)"
   ]
  },
  {
   "cell_type": "code",
   "execution_count": null,
   "id": "6bc56639",
   "metadata": {},
   "outputs": [],
   "source": [
    "RADIUS = 2\n",
    "SIDE = 1 + 2 * RADIUS\n",
    "\n",
    "def make_plane(z, mx, my):\n",
    "  width, height = z.shape\n",
    "  total_pixels = width * height\n",
    "\n",
    "  zmean = z.mean()\n",
    "  W = np.empty_like(z)\n",
    "  for xx in range(width):\n",
    "    for yy in range(height):\n",
    "      wA = exp(-0.5 * abs(z[xx, yy] - zmean) / zmean)\n",
    "      wB = exp(-0.5 * ((xx-mx)**2 + (yy-my)**2) / (width * height))\n",
    "      W[xx, yy] = wA * wB\n",
    "\n",
    "  zflat, Wflat = z.flatten(), W.flatten()\n",
    "  coords = np.mgrid[0:width, 0:height]\n",
    "  mA = np.empty((total_pixels, 3))\n",
    "  mA[:,0] = Wflat * (coords[1].flatten() - mx)\n",
    "  mA[:,1] = Wflat * (coords[0].flatten() - my)\n",
    "  mA[:,2] = Wflat\n",
    "\n",
    "  mAt = mA.transpose()\n",
    "  mAtA = np.matmul(mAt, mA)\n",
    "  mAtb = np.matmul(mAt, Wflat * zflat)\n",
    "  (A, B, C) = np.linalg.solve(mAtA, mAtb)\n",
    "  return (A, B, C)\n",
    "\n",
    "WIDTH = 20\n",
    "HEIGHT = 20\n",
    "x, y = np.meshgrid(range(WIDTH), range(HEIGHT))\n",
    "\n",
    "def surfaces(s):\n",
    "  fig = plt.figure()\n",
    "  ax = fig.add_subplot(projection='3d')\n",
    "  for z in s:\n",
    "    ax.plot_surface(x, y, z)\n",
    "  plt.show()\n",
    "\n",
    "arr = np.array([[np.float64(x + y**2) for x in range(WIDTH)] for y in range(HEIGHT)])\n",
    "MX = 1\n",
    "MY = 5\n",
    "Z = make_plane(arr, MX, MY)\n",
    "display(Z)\n",
    "plane = np.array([[(Z[0] * (x - MX) + Z[1] * (y - MY) + Z[2]) for x in range(20)] for y in range(20)])\n",
    "\n",
    "surfaces([arr, plane])"
   ]
  }
 ],
 "metadata": {
  "kernelspec": {
   "display_name": "venv",
   "language": "python",
   "name": "python3"
  },
  "language_info": {
   "codemirror_mode": {
    "name": "ipython",
    "version": 3
   },
   "file_extension": ".py",
   "mimetype": "text/x-python",
   "name": "python",
   "nbconvert_exporter": "python",
   "pygments_lexer": "ipython3",
   "version": "3.13.3"
  }
 },
 "nbformat": 4,
 "nbformat_minor": 5
}
