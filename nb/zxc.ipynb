{
 "cells": [
  {
   "cell_type": "code",
   "execution_count": null,
   "id": "9d96aa48",
   "metadata": {},
   "outputs": [],
   "source": [
    "import pandas as pd\n",
    "import plotly.graph_objects as go\n",
    "import plotly.express as px\n",
    "import numpy as np\n",
    "import OpenEXR"
   ]
  },
  {
   "cell_type": "code",
   "execution_count": null,
   "id": "6e841e71",
   "metadata": {},
   "outputs": [],
   "source": [
    "def crop_exr(input_path, output_path, x, y, w, h):\n",
    "  image = OpenEXR.File(input_path)\n",
    "  header = image.header()\n",
    "  wind = (np.array([0, 0], dtype=np.int32),\n",
    "          np.array([w-1, h-1], dtype=np.int32))\n",
    "  header['dataWindow'] = wind\n",
    "  header['displayWindow'] = wind\n",
    "\n",
    "  def crop_inner(c):\n",
    "    c = c[y:y+h, x:x+w]\n",
    "    return np.copy(c) # wouldn't work without copy, OpenEXR bug\n",
    "\n",
    "  channels = {}\n",
    "  for name, chan in image.channels().items():\n",
    "    channels[name] = crop_inner(chan.pixels)\n",
    "\n",
    "  with OpenEXR.File(header, channels) as outfile:\n",
    "    outfile.write(output_path)\n",
    "\n",
    "  #again = OpenEXR.File(output_path)\n",
    "  #for name, chan in again.channels().items():\n",
    "  #  display(chan)\n",
    "  #  px.imshow(chan.pixels).show()"
   ]
  },
  {
   "cell_type": "code",
   "execution_count": null,
   "id": "95a3f724",
   "metadata": {},
   "outputs": [],
   "source": [
    "crop_exr('../exr/cam7.exr',\n",
    "         '../exr/cam7-cropped.exr',\n",
    "         0, 1000, 600, 400)"
   ]
  },
  {
   "cell_type": "code",
   "execution_count": null,
   "id": "83501ab3",
   "metadata": {},
   "outputs": [],
   "source": [
    "img = np.zeros((50,48))\n",
    "\n",
    "for i in range(img.shape[0]):\n",
    "  for j in range(img.shape[1]):\n",
    "    ii = i\n",
    "    jj = j\n",
    "    if (ii + jj) % 2 == 0:\n",
    "      img[i][j] = 20\n",
    "    else:\n",
    "      img[i][j] = - ii - jj\n",
    "\n",
    "fig = px.imshow(img)\n",
    "fig.update_layout(height = 800)\n",
    "fig.show()\n"
   ]
  },
  {
   "cell_type": "code",
   "execution_count": null,
   "id": "ed8326be",
   "metadata": {},
   "outputs": [],
   "source": [
    "# ×\n",
    "\n",
    "names = [\n",
    "  \"1920×1080\",\n",
    "  \"500×500\",\n",
    "  \"1700×2200\",\n",
    "  \"1875×2500\",\n",
    "  \"375×375\",\n",
    "]\n",
    "\n",
    "fig = go.Figure(data=[\n",
    "  go.Bar(name = 'без unroll', x=names, y=[4.030, 3.595, 2.538, 2.895, 3.015,]),\n",
    "  go.Bar(name = 'с unroll',   x=names, y=[7.183, 6.747, 5.177, 5.754, 6.034,]),\n",
    "])\n",
    "fig.update_layout(yaxis_title='Производительность, Мпиксель/с')\n",
    "fig.show()"
   ]
  }
 ],
 "metadata": {
  "kernelspec": {
   "display_name": "venv",
   "language": "python",
   "name": "python3"
  },
  "language_info": {
   "codemirror_mode": {
    "name": "ipython",
    "version": 3
   },
   "file_extension": ".py",
   "mimetype": "text/x-python",
   "name": "python",
   "nbconvert_exporter": "python",
   "pygments_lexer": "ipython3",
   "version": "3.13.3"
  }
 },
 "nbformat": 4,
 "nbformat_minor": 5
}
